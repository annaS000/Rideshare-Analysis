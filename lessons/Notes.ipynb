{
 "cells": [
  {
   "cell_type": "code",
   "execution_count": null,
   "id": "56813384",
   "metadata": {},
   "outputs": [],
   "source": [
    "# Annotate Charts\n",
    "#plt.figure(figsize=(w, h))\tChange the size of the figure in pixels. Added on the first line of the script.\n",
    "#plt.plot(x, y, label='line')\tAdd a label that will be added to the legend.\n",
    "#plt.xlim(min, max)\tSet the min and max range of the x-axis.\n",
    "#plt.ylim(min, max)\tSet the min and max range of the y-axis.\n",
    "#plt.xlabel('x label')\tAdd a label to the x-axis.\n",
    "#plt.ylabel('y label')\tAdd a label to the y-axis.\n",
    "#plt.title(\"Title\")\tAdd a title.\n",
    "#plt.legend()\tAdd a legend.\n",
    "#plt.grid()\tAdd a grid to the chart.\n",
    "#plt.savefig(\"add a path and figure extension\")\tSave the figure with the given extension. Added at the end of the script."
   ]
  },
  {
   "cell_type": "code",
   "execution_count": null,
   "id": "b084eac0",
   "metadata": {},
   "outputs": [],
   "source": [
    "# Object oriented interface\n",
    "#fig, ax = plt.subplots(figsize=(w, h))\tChange the size of the figure in pixels. Add this in the subplots() function.\n",
    "#ax.plot(x, y, label='line')\tAdd a label that will be added to the legend.\n",
    "#ax.set_ylim(min, max)\tSets the min and max range of the y-axis.\n",
    "#ax.set_xlim(min, max)\tSets the min and max range of the x-axis.\n",
    "#ax.set_xlabel('x label')\tAdd a label to the x-axis.\n",
    "#ax.set_ylabel('y label')\tAdd a label to the y-axis.\n",
    "#ax.set_title(\"Title\")\tAdd a title.\n",
    "#ax.legend()\tAdd a legend.\n",
    "#ax.grid()\tAdd a grid to the chart.\n",
    "#** plt.savefig(\"add a path and figure extension\")\tSaves the figure with the given extension. Added at the end of your script."
   ]
  },
  {
   "cell_type": "code",
   "execution_count": null,
   "id": "e54ec75e",
   "metadata": {},
   "outputs": [],
   "source": []
  }
 ],
 "metadata": {
  "kernelspec": {
   "display_name": "PythonData",
   "language": "python",
   "name": "pythondata"
  },
  "language_info": {
   "codemirror_mode": {
    "name": "ipython",
    "version": 3
   },
   "file_extension": ".py",
   "mimetype": "text/x-python",
   "name": "python",
   "nbconvert_exporter": "python",
   "pygments_lexer": "ipython3",
   "version": "3.7.10"
  }
 },
 "nbformat": 4,
 "nbformat_minor": 5
}
